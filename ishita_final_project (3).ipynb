{
 "cells": [
  {
   "cell_type": "markdown",
   "metadata": {},
   "source": [
    "# Disney production house performance analysis"
   ]
  },
  {
   "cell_type": "markdown",
   "metadata": {},
   "source": [
    "# Introduction\n",
    "\n",
    "## Question(s) of interests\n",
    "In this analysis, I will be investigating a questions associated with the collection of disney datasets.\n",
    "I am interested in find out how disney movies performed per year, moreover, as you already know disney is a big production house which worked multiple directors, it will interesting to determine how their movies perfomed in box office.\n",
    "\n",
    "## Dataset description \n",
    "\n",
    "he disney data set is composed of five tables, `disney_movies_total_gross.csv`,`disney_revenue_1991-2016.csv`,`disney-characters.csv`,`disney-director.csv`,`disney_voice-actor` . Each table is stored in a `.csv` file and contains information about disney including the movies, their release dates, genre, total revenue, charactors and voice-actors. I'll be using `disney_movies_total_gross`, `disney-directors`,`disney-director` tables formally described below:\n",
    "\n",
    "* **disney_movies_total_gross.csv**\n",
    "    * This file contains information on disney including unique movie titles, their release dates, heros, villains and songs which are featured in these movies.\n",
    "* **disney_revenue_1991-2016.csv**\n",
    "    * This file includes information on the revenues generated from 1991 to 2016.These "
   ]
  },
  {
   "cell_type": "markdown",
   "metadata": {},
   "source": [
    "# Methods and Results\n",
    "\n",
    "Since I am only interested in computing the gross of the movies and directors who worked with Disney from the available datasets, I will need to use tables that contain information on gross and directors. This implies that I will need to use the **gross** and the **director** tables.\n",
    "\n",
    "However, before moving further, let us import the tables and do some basic visualizations."
   ]
  },
  {
   "cell_type": "code",
   "execution_count": 1,
   "metadata": {},
   "outputs": [],
   "source": [
    "# Lets import all the required libraries needed for this analysis\n",
    "import pandas as pd\n",
    "import numpy as np\n",
    "import altair as alt\n",
    "\n",
    "# import all the required files\n",
    "gross = pd.read_csv(\"data/disney_movies_total_gross.csv\")\n",
    "directors = pd.read_csv(\"data/disney-director.csv\")"
   ]
  },
  {
   "cell_type": "markdown",
   "metadata": {},
   "source": [
    "Lets see what the tables look like."
   ]
  },
  {
   "cell_type": "code",
   "execution_count": 2,
   "metadata": {},
   "outputs": [
    {
     "data": {
      "text/html": [
       "<div>\n",
       "<style scoped>\n",
       "    .dataframe tbody tr th:only-of-type {\n",
       "        vertical-align: middle;\n",
       "    }\n",
       "\n",
       "    .dataframe tbody tr th {\n",
       "        vertical-align: top;\n",
       "    }\n",
       "\n",
       "    .dataframe thead th {\n",
       "        text-align: right;\n",
       "    }\n",
       "</style>\n",
       "<table border=\"1\" class=\"dataframe\">\n",
       "  <thead>\n",
       "    <tr style=\"text-align: right;\">\n",
       "      <th></th>\n",
       "      <th>movie_title</th>\n",
       "      <th>release_date</th>\n",
       "      <th>genre</th>\n",
       "      <th>MPAA_rating</th>\n",
       "      <th>total_gross</th>\n",
       "      <th>inflation_adjusted_gross</th>\n",
       "    </tr>\n",
       "  </thead>\n",
       "  <tbody>\n",
       "    <tr>\n",
       "      <th>0</th>\n",
       "      <td>Snow White and the Seven Dwarfs</td>\n",
       "      <td>Dec 21, 1937</td>\n",
       "      <td>Musical</td>\n",
       "      <td>G</td>\n",
       "      <td>$184,925,485</td>\n",
       "      <td>$5,228,953,251</td>\n",
       "    </tr>\n",
       "    <tr>\n",
       "      <th>1</th>\n",
       "      <td>Pinocchio</td>\n",
       "      <td>Feb 9, 1940</td>\n",
       "      <td>Adventure</td>\n",
       "      <td>G</td>\n",
       "      <td>$84,300,000</td>\n",
       "      <td>$2,188,229,052</td>\n",
       "    </tr>\n",
       "    <tr>\n",
       "      <th>2</th>\n",
       "      <td>Fantasia</td>\n",
       "      <td>Nov 13, 1940</td>\n",
       "      <td>Musical</td>\n",
       "      <td>G</td>\n",
       "      <td>$83,320,000</td>\n",
       "      <td>$2,187,090,808</td>\n",
       "    </tr>\n",
       "    <tr>\n",
       "      <th>3</th>\n",
       "      <td>Song of the South</td>\n",
       "      <td>Nov 12, 1946</td>\n",
       "      <td>Adventure</td>\n",
       "      <td>G</td>\n",
       "      <td>$65,000,000</td>\n",
       "      <td>$1,078,510,579</td>\n",
       "    </tr>\n",
       "    <tr>\n",
       "      <th>4</th>\n",
       "      <td>Cinderella</td>\n",
       "      <td>Feb 15, 1950</td>\n",
       "      <td>Drama</td>\n",
       "      <td>G</td>\n",
       "      <td>$85,000,000</td>\n",
       "      <td>$920,608,730</td>\n",
       "    </tr>\n",
       "  </tbody>\n",
       "</table>\n",
       "</div>"
      ],
      "text/plain": [
       "                       movie_title  release_date      genre MPAA_rating  \\\n",
       "0  Snow White and the Seven Dwarfs  Dec 21, 1937    Musical           G   \n",
       "1                        Pinocchio   Feb 9, 1940  Adventure           G   \n",
       "2                         Fantasia  Nov 13, 1940    Musical           G   \n",
       "3                Song of the South  Nov 12, 1946  Adventure           G   \n",
       "4                       Cinderella  Feb 15, 1950      Drama           G   \n",
       "\n",
       "    total_gross inflation_adjusted_gross  \n",
       "0  $184,925,485           $5,228,953,251  \n",
       "1   $84,300,000           $2,188,229,052  \n",
       "2   $83,320,000           $2,187,090,808  \n",
       "3   $65,000,000           $1,078,510,579  \n",
       "4   $85,000,000             $920,608,730  "
      ]
     },
     "execution_count": 2,
     "metadata": {},
     "output_type": "execute_result"
    }
   ],
   "source": [
    "gross.head()"
   ]
  },
  {
   "cell_type": "code",
   "execution_count": 3,
   "metadata": {},
   "outputs": [
    {
     "data": {
      "text/html": [
       "<div>\n",
       "<style scoped>\n",
       "    .dataframe tbody tr th:only-of-type {\n",
       "        vertical-align: middle;\n",
       "    }\n",
       "\n",
       "    .dataframe tbody tr th {\n",
       "        vertical-align: top;\n",
       "    }\n",
       "\n",
       "    .dataframe thead th {\n",
       "        text-align: right;\n",
       "    }\n",
       "</style>\n",
       "<table border=\"1\" class=\"dataframe\">\n",
       "  <thead>\n",
       "    <tr style=\"text-align: right;\">\n",
       "      <th></th>\n",
       "      <th>name</th>\n",
       "      <th>director</th>\n",
       "    </tr>\n",
       "  </thead>\n",
       "  <tbody>\n",
       "    <tr>\n",
       "      <th>0</th>\n",
       "      <td>Snow White and the Seven Dwarfs</td>\n",
       "      <td>David Hand</td>\n",
       "    </tr>\n",
       "    <tr>\n",
       "      <th>1</th>\n",
       "      <td>Pinocchio</td>\n",
       "      <td>Ben Sharpsteen</td>\n",
       "    </tr>\n",
       "    <tr>\n",
       "      <th>2</th>\n",
       "      <td>Fantasia</td>\n",
       "      <td>full credits</td>\n",
       "    </tr>\n",
       "    <tr>\n",
       "      <th>3</th>\n",
       "      <td>Dumbo</td>\n",
       "      <td>Ben Sharpsteen</td>\n",
       "    </tr>\n",
       "    <tr>\n",
       "      <th>4</th>\n",
       "      <td>Bambi</td>\n",
       "      <td>David Hand</td>\n",
       "    </tr>\n",
       "  </tbody>\n",
       "</table>\n",
       "</div>"
      ],
      "text/plain": [
       "                              name        director\n",
       "0  Snow White and the Seven Dwarfs      David Hand\n",
       "1                        Pinocchio  Ben Sharpsteen\n",
       "2                         Fantasia    full credits\n",
       "3                            Dumbo  Ben Sharpsteen\n",
       "4                            Bambi      David Hand"
      ]
     },
     "execution_count": 3,
     "metadata": {},
     "output_type": "execute_result"
    }
   ],
   "source": [
    "directors.head()"
   ]
  },
  {
   "cell_type": "markdown",
   "metadata": {},
   "source": [
    "Lets get some other information about the **gross** table."
   ]
  },
  {
   "cell_type": "code",
   "execution_count": 4,
   "metadata": {},
   "outputs": [
    {
     "name": "stdout",
     "output_type": "stream",
     "text": [
      "<class 'pandas.core.frame.DataFrame'>\n",
      "RangeIndex: 579 entries, 0 to 578\n",
      "Data columns (total 6 columns):\n",
      " #   Column                    Non-Null Count  Dtype \n",
      "---  ------                    --------------  ----- \n",
      " 0   movie_title               579 non-null    object\n",
      " 1   release_date              579 non-null    object\n",
      " 2   genre                     562 non-null    object\n",
      " 3   MPAA_rating               523 non-null    object\n",
      " 4   total_gross               579 non-null    object\n",
      " 5   inflation_adjusted_gross  579 non-null    object\n",
      "dtypes: object(6)\n",
      "memory usage: 27.3+ KB\n",
      "object\n",
      "object\n",
      "object\n"
     ]
    }
   ],
   "source": [
    "#Enter the code here to derive the information\n",
    "gross.info()\n",
    "print(gross['movie_title'].dtype)\n",
    "print(gross['release_date'].dtype)\n",
    "print(gross['total_gross'].dtype)"
   ]
  },
  {
   "cell_type": "markdown",
   "metadata": {},
   "source": [
    "The total_gross table has $579$ rows and $6$ columns. Every **movie_title** has a **release_date**, a **genre**, the **MPAA_rating** , **total_gross** , **inflation_adjusted_gross**.\n"
   ]
  },
  {
   "cell_type": "markdown",
   "metadata": {},
   "source": [
    "Lets get some other information about the **directors** table. In this table we get the **name** of the movie and the **director** who directed that movie."
   ]
  },
  {
   "cell_type": "code",
   "execution_count": 27,
   "metadata": {},
   "outputs": [
    {
     "name": "stdout",
     "output_type": "stream",
     "text": [
      "<class 'pandas.core.frame.DataFrame'>\n",
      "RangeIndex: 56 entries, 0 to 55\n",
      "Data columns (total 2 columns):\n",
      " #   Column    Non-Null Count  Dtype \n",
      "---  ------    --------------  ----- \n",
      " 0   name      56 non-null     object\n",
      " 1   director  56 non-null     object\n",
      "dtypes: object(2)\n",
      "memory usage: 1.0+ KB\n",
      "object\n",
      "object\n"
     ]
    }
   ],
   "source": [
    "#Entered the code here to derive the information\n",
    "directors.info()\n",
    "print(directors['name'].dtype)\n",
    "print(directors['director'].dtype)"
   ]
  },
  {
   "cell_type": "markdown",
   "metadata": {},
   "source": [
    "The table has $56$ rows with $2$ columns. Movie's **name** and the **director** who directed the movie."
   ]
  },
  {
   "cell_type": "markdown",
   "metadata": {},
   "source": [
    "Before we start with further analysis we need to wrangle the data by first merging **gross** and **directors** table w.r.t. the name of the movie as a common element in to one table **movie_df**. This new table will contain only the required columns with correct datatypes."
   ]
  },
  {
   "cell_type": "code",
   "execution_count": 6,
   "metadata": {},
   "outputs": [
    {
     "data": {
      "text/html": [
       "<div>\n",
       "<style scoped>\n",
       "    .dataframe tbody tr th:only-of-type {\n",
       "        vertical-align: middle;\n",
       "    }\n",
       "\n",
       "    .dataframe tbody tr th {\n",
       "        vertical-align: top;\n",
       "    }\n",
       "\n",
       "    .dataframe thead th {\n",
       "        text-align: right;\n",
       "    }\n",
       "</style>\n",
       "<table border=\"1\" class=\"dataframe\">\n",
       "  <thead>\n",
       "    <tr style=\"text-align: right;\">\n",
       "      <th></th>\n",
       "      <th>release_year</th>\n",
       "      <th>release_date</th>\n",
       "      <th>movie_title</th>\n",
       "      <th>genre</th>\n",
       "      <th>total_gross</th>\n",
       "      <th>director</th>\n",
       "    </tr>\n",
       "  </thead>\n",
       "  <tbody>\n",
       "    <tr>\n",
       "      <th>0</th>\n",
       "      <td>1937</td>\n",
       "      <td>1937-12-21</td>\n",
       "      <td>Snow White and the Seven Dwarfs</td>\n",
       "      <td>Musical</td>\n",
       "      <td>184925485</td>\n",
       "      <td>David Hand</td>\n",
       "    </tr>\n",
       "    <tr>\n",
       "      <th>1</th>\n",
       "      <td>1940</td>\n",
       "      <td>1940-02-09</td>\n",
       "      <td>Pinocchio</td>\n",
       "      <td>Adventure</td>\n",
       "      <td>84300000</td>\n",
       "      <td>Ben Sharpsteen</td>\n",
       "    </tr>\n",
       "    <tr>\n",
       "      <th>2</th>\n",
       "      <td>1940</td>\n",
       "      <td>1940-11-13</td>\n",
       "      <td>Fantasia</td>\n",
       "      <td>Musical</td>\n",
       "      <td>83320000</td>\n",
       "      <td>full credits</td>\n",
       "    </tr>\n",
       "    <tr>\n",
       "      <th>3</th>\n",
       "      <td>1946</td>\n",
       "      <td>1946-11-12</td>\n",
       "      <td>Song of the South</td>\n",
       "      <td>Adventure</td>\n",
       "      <td>65000000</td>\n",
       "      <td>NaN</td>\n",
       "    </tr>\n",
       "    <tr>\n",
       "      <th>4</th>\n",
       "      <td>1950</td>\n",
       "      <td>1950-02-15</td>\n",
       "      <td>Cinderella</td>\n",
       "      <td>Drama</td>\n",
       "      <td>85000000</td>\n",
       "      <td>Wilfred Jackson</td>\n",
       "    </tr>\n",
       "    <tr>\n",
       "      <th>...</th>\n",
       "      <td>...</td>\n",
       "      <td>...</td>\n",
       "      <td>...</td>\n",
       "      <td>...</td>\n",
       "      <td>...</td>\n",
       "      <td>...</td>\n",
       "    </tr>\n",
       "    <tr>\n",
       "      <th>574</th>\n",
       "      <td>2016</td>\n",
       "      <td>2016-09-02</td>\n",
       "      <td>The Light Between Oceans</td>\n",
       "      <td>Drama</td>\n",
       "      <td>12545979</td>\n",
       "      <td>NaN</td>\n",
       "    </tr>\n",
       "    <tr>\n",
       "      <th>575</th>\n",
       "      <td>2016</td>\n",
       "      <td>2016-09-23</td>\n",
       "      <td>Queen of Katwe</td>\n",
       "      <td>Drama</td>\n",
       "      <td>8874389</td>\n",
       "      <td>NaN</td>\n",
       "    </tr>\n",
       "    <tr>\n",
       "      <th>576</th>\n",
       "      <td>2016</td>\n",
       "      <td>2016-11-04</td>\n",
       "      <td>Doctor Strange</td>\n",
       "      <td>Adventure</td>\n",
       "      <td>232532923</td>\n",
       "      <td>NaN</td>\n",
       "    </tr>\n",
       "    <tr>\n",
       "      <th>577</th>\n",
       "      <td>2016</td>\n",
       "      <td>2016-11-23</td>\n",
       "      <td>Moana</td>\n",
       "      <td>Adventure</td>\n",
       "      <td>246082029</td>\n",
       "      <td>Ron Clements</td>\n",
       "    </tr>\n",
       "    <tr>\n",
       "      <th>578</th>\n",
       "      <td>2016</td>\n",
       "      <td>2016-12-16</td>\n",
       "      <td>Rogue One: A Star Wars Story</td>\n",
       "      <td>Adventure</td>\n",
       "      <td>529483936</td>\n",
       "      <td>NaN</td>\n",
       "    </tr>\n",
       "  </tbody>\n",
       "</table>\n",
       "<p>579 rows × 6 columns</p>\n",
       "</div>"
      ],
      "text/plain": [
       "     release_year release_date                      movie_title      genre  \\\n",
       "0            1937   1937-12-21  Snow White and the Seven Dwarfs    Musical   \n",
       "1            1940   1940-02-09                        Pinocchio  Adventure   \n",
       "2            1940   1940-11-13                         Fantasia    Musical   \n",
       "3            1946   1946-11-12                Song of the South  Adventure   \n",
       "4            1950   1950-02-15                       Cinderella      Drama   \n",
       "..            ...          ...                              ...        ...   \n",
       "574          2016   2016-09-02         The Light Between Oceans      Drama   \n",
       "575          2016   2016-09-23                   Queen of Katwe      Drama   \n",
       "576          2016   2016-11-04                   Doctor Strange  Adventure   \n",
       "577          2016   2016-11-23                            Moana  Adventure   \n",
       "578          2016   2016-12-16     Rogue One: A Star Wars Story  Adventure   \n",
       "\n",
       "     total_gross         director  \n",
       "0      184925485       David Hand  \n",
       "1       84300000   Ben Sharpsteen  \n",
       "2       83320000     full credits  \n",
       "3       65000000              NaN  \n",
       "4       85000000  Wilfred Jackson  \n",
       "..           ...              ...  \n",
       "574     12545979              NaN  \n",
       "575      8874389              NaN  \n",
       "576    232532923              NaN  \n",
       "577    246082029     Ron Clements  \n",
       "578    529483936              NaN  \n",
       "\n",
       "[579 rows x 6 columns]"
      ]
     },
     "metadata": {},
     "output_type": "display_data"
    }
   ],
   "source": [
    "# Outer Merge the gross and directors data Sets into a new dataframe object\n",
    "merged_movie_df = gross.merge(directors, left_on = 'movie_title',right_on = 'name',how='outer')\n",
    "movie_df = merged_movie_df.loc[:, merged_movie_df\n",
    "                               .columns.drop(['name'])]\n",
    "\n",
    "# Step 2 Convert the release date column to datetime, total_gross to int64\n",
    "\n",
    "# Converted release_date to datetime\n",
    "movie_df['release_date'] =  pd.to_datetime(movie_df['release_date'])\n",
    "\n",
    "# Remove rows with Null total_Gross\n",
    "movie_df = movie_df[movie_df['total_gross'].notna()]\n",
    "\n",
    "# Converted total_gross to Int removed \"$\" and \",\"\n",
    "movie_df['total_gross'] = movie_df['total_gross'].str.replace(',', '', regex=True).str.replace('$', '', regex=True).astype(int)\n",
    "\n",
    "#Add a release_year column dataFrame\n",
    "movie_df['release_year'] = pd.DatetimeIndex(movie_df['release_date']).year\n",
    "\n",
    "# Place required columns in correct order\n",
    "movie_df = movie_df[['release_year', 'release_date', 'movie_title', 'genre', 'total_gross','director']]\n",
    "\n",
    "# Display the final merged dataframe\n",
    "display(movie_df)"
   ]
  },
  {
   "cell_type": "markdown",
   "metadata": {},
   "source": [
    "As a first visualization, lets look at the average number of movies released in each year. To do this, I will use the **gross** table. I will group by **release year** and then compute the 10 grossing year in analysis.\n",
    "\n",
    "This will help us to identify the Top 10 highest grossing years of Disney"
   ]
  },
  {
   "cell_type": "markdown",
   "metadata": {},
   "source": [
    "Let us create a table which groups by the movie release year and returns corresponding gross revenue"
   ]
  },
  {
   "cell_type": "code",
   "execution_count": 7,
   "metadata": {},
   "outputs": [
    {
     "name": "stdout",
     "output_type": "stream",
     "text": [
      "Top 10 grossing year is Analysis: \n"
     ]
    },
    {
     "data": {
      "text/html": [
       "<div>\n",
       "<style scoped>\n",
       "    .dataframe tbody tr th:only-of-type {\n",
       "        vertical-align: middle;\n",
       "    }\n",
       "\n",
       "    .dataframe tbody tr th {\n",
       "        vertical-align: top;\n",
       "    }\n",
       "\n",
       "    .dataframe thead th {\n",
       "        text-align: right;\n",
       "    }\n",
       "</style>\n",
       "<table border=\"1\" class=\"dataframe\">\n",
       "  <thead>\n",
       "    <tr style=\"text-align: right;\">\n",
       "      <th></th>\n",
       "      <th>release_year</th>\n",
       "      <th>total_gross</th>\n",
       "      <th>movie_count</th>\n",
       "    </tr>\n",
       "  </thead>\n",
       "  <tbody>\n",
       "    <tr>\n",
       "      <th>53</th>\n",
       "      <td>2016</td>\n",
       "      <td>2873393105</td>\n",
       "      <td>14</td>\n",
       "    </tr>\n",
       "    <tr>\n",
       "      <th>52</th>\n",
       "      <td>2015</td>\n",
       "      <td>2495662696</td>\n",
       "      <td>11</td>\n",
       "    </tr>\n",
       "    <tr>\n",
       "      <th>50</th>\n",
       "      <td>2013</td>\n",
       "      <td>1821352070</td>\n",
       "      <td>11</td>\n",
       "    </tr>\n",
       "    <tr>\n",
       "      <th>40</th>\n",
       "      <td>2003</td>\n",
       "      <td>1564114393</td>\n",
       "      <td>19</td>\n",
       "    </tr>\n",
       "    <tr>\n",
       "      <th>47</th>\n",
       "      <td>2010</td>\n",
       "      <td>1518975880</td>\n",
       "      <td>14</td>\n",
       "    </tr>\n",
       "    <tr>\n",
       "      <th>51</th>\n",
       "      <td>2014</td>\n",
       "      <td>1514179473</td>\n",
       "      <td>12</td>\n",
       "    </tr>\n",
       "    <tr>\n",
       "      <th>49</th>\n",
       "      <td>2012</td>\n",
       "      <td>1452972057</td>\n",
       "      <td>10</td>\n",
       "    </tr>\n",
       "    <tr>\n",
       "      <th>44</th>\n",
       "      <td>2007</td>\n",
       "      <td>1436787754</td>\n",
       "      <td>14</td>\n",
       "    </tr>\n",
       "    <tr>\n",
       "      <th>43</th>\n",
       "      <td>2006</td>\n",
       "      <td>1427356974</td>\n",
       "      <td>19</td>\n",
       "    </tr>\n",
       "    <tr>\n",
       "      <th>35</th>\n",
       "      <td>1998</td>\n",
       "      <td>1229279167</td>\n",
       "      <td>22</td>\n",
       "    </tr>\n",
       "  </tbody>\n",
       "</table>\n",
       "</div>"
      ],
      "text/plain": [
       "    release_year  total_gross  movie_count\n",
       "53          2016   2873393105           14\n",
       "52          2015   2495662696           11\n",
       "50          2013   1821352070           11\n",
       "40          2003   1564114393           19\n",
       "47          2010   1518975880           14\n",
       "51          2014   1514179473           12\n",
       "49          2012   1452972057           10\n",
       "44          2007   1436787754           14\n",
       "43          2006   1427356974           19\n",
       "35          1998   1229279167           22"
      ]
     },
     "metadata": {},
     "output_type": "display_data"
    },
    {
     "name": "stdout",
     "output_type": "stream",
     "text": [
      "Highest Grossing Year is Analysis: \n"
     ]
    },
    {
     "data": {
      "text/html": [
       "<div>\n",
       "<style scoped>\n",
       "    .dataframe tbody tr th:only-of-type {\n",
       "        vertical-align: middle;\n",
       "    }\n",
       "\n",
       "    .dataframe tbody tr th {\n",
       "        vertical-align: top;\n",
       "    }\n",
       "\n",
       "    .dataframe thead th {\n",
       "        text-align: right;\n",
       "    }\n",
       "</style>\n",
       "<table border=\"1\" class=\"dataframe\">\n",
       "  <thead>\n",
       "    <tr style=\"text-align: right;\">\n",
       "      <th></th>\n",
       "      <th>release_year</th>\n",
       "      <th>total_gross</th>\n",
       "      <th>movie_count</th>\n",
       "    </tr>\n",
       "  </thead>\n",
       "  <tbody>\n",
       "    <tr>\n",
       "      <th>53</th>\n",
       "      <td>2016</td>\n",
       "      <td>2873393105</td>\n",
       "      <td>14</td>\n",
       "    </tr>\n",
       "  </tbody>\n",
       "</table>\n",
       "</div>"
      ],
      "text/plain": [
       "    release_year  total_gross  movie_count\n",
       "53          2016   2873393105           14"
      ]
     },
     "metadata": {},
     "output_type": "display_data"
    },
    {
     "name": "stdout",
     "output_type": "stream",
     "text": [
      "Performance of Year with MOST number of released movies : \n"
     ]
    },
    {
     "data": {
      "text/html": [
       "<div>\n",
       "<style scoped>\n",
       "    .dataframe tbody tr th:only-of-type {\n",
       "        vertical-align: middle;\n",
       "    }\n",
       "\n",
       "    .dataframe tbody tr th {\n",
       "        vertical-align: top;\n",
       "    }\n",
       "\n",
       "    .dataframe thead th {\n",
       "        text-align: right;\n",
       "    }\n",
       "</style>\n",
       "<table border=\"1\" class=\"dataframe\">\n",
       "  <thead>\n",
       "    <tr style=\"text-align: right;\">\n",
       "      <th></th>\n",
       "      <th>release_year</th>\n",
       "      <th>total_gross</th>\n",
       "      <th>movie_count</th>\n",
       "    </tr>\n",
       "  </thead>\n",
       "  <tbody>\n",
       "    <tr>\n",
       "      <th>32</th>\n",
       "      <td>1995</td>\n",
       "      <td>1131964294</td>\n",
       "      <td>32</td>\n",
       "    </tr>\n",
       "  </tbody>\n",
       "</table>\n",
       "</div>"
      ],
      "text/plain": [
       "    release_year  total_gross  movie_count\n",
       "32          1995   1131964294           32"
      ]
     },
     "metadata": {},
     "output_type": "display_data"
    },
    {
     "name": "stdout",
     "output_type": "stream",
     "text": [
      "Performance of Year with LEAST number of released Mmovies : \n"
     ]
    },
    {
     "data": {
      "text/html": [
       "<div>\n",
       "<style scoped>\n",
       "    .dataframe tbody tr th:only-of-type {\n",
       "        vertical-align: middle;\n",
       "    }\n",
       "\n",
       "    .dataframe tbody tr th {\n",
       "        vertical-align: top;\n",
       "    }\n",
       "\n",
       "    .dataframe thead th {\n",
       "        text-align: right;\n",
       "    }\n",
       "</style>\n",
       "<table border=\"1\" class=\"dataframe\">\n",
       "  <thead>\n",
       "    <tr style=\"text-align: right;\">\n",
       "      <th></th>\n",
       "      <th>release_year</th>\n",
       "      <th>total_gross</th>\n",
       "      <th>movie_count</th>\n",
       "    </tr>\n",
       "  </thead>\n",
       "  <tbody>\n",
       "    <tr>\n",
       "      <th>0</th>\n",
       "      <td>1937</td>\n",
       "      <td>184925485</td>\n",
       "      <td>1</td>\n",
       "    </tr>\n",
       "    <tr>\n",
       "      <th>2</th>\n",
       "      <td>1946</td>\n",
       "      <td>65000000</td>\n",
       "      <td>1</td>\n",
       "    </tr>\n",
       "    <tr>\n",
       "      <th>3</th>\n",
       "      <td>1950</td>\n",
       "      <td>85000000</td>\n",
       "      <td>1</td>\n",
       "    </tr>\n",
       "    <tr>\n",
       "      <th>4</th>\n",
       "      <td>1954</td>\n",
       "      <td>28200000</td>\n",
       "      <td>1</td>\n",
       "    </tr>\n",
       "    <tr>\n",
       "      <th>5</th>\n",
       "      <td>1955</td>\n",
       "      <td>93600000</td>\n",
       "      <td>1</td>\n",
       "    </tr>\n",
       "    <tr>\n",
       "      <th>6</th>\n",
       "      <td>1959</td>\n",
       "      <td>9464608</td>\n",
       "      <td>1</td>\n",
       "    </tr>\n",
       "    <tr>\n",
       "      <th>8</th>\n",
       "      <td>1962</td>\n",
       "      <td>9230769</td>\n",
       "      <td>1</td>\n",
       "    </tr>\n",
       "    <tr>\n",
       "      <th>9</th>\n",
       "      <td>1963</td>\n",
       "      <td>22182353</td>\n",
       "      <td>1</td>\n",
       "    </tr>\n",
       "    <tr>\n",
       "      <th>10</th>\n",
       "      <td>1967</td>\n",
       "      <td>141843000</td>\n",
       "      <td>1</td>\n",
       "    </tr>\n",
       "    <tr>\n",
       "      <th>11</th>\n",
       "      <td>1968</td>\n",
       "      <td>21540050</td>\n",
       "      <td>1</td>\n",
       "    </tr>\n",
       "    <tr>\n",
       "      <th>13</th>\n",
       "      <td>1971</td>\n",
       "      <td>17871174</td>\n",
       "      <td>1</td>\n",
       "    </tr>\n",
       "    <tr>\n",
       "      <th>14</th>\n",
       "      <td>1975</td>\n",
       "      <td>31916500</td>\n",
       "      <td>1</td>\n",
       "    </tr>\n",
       "    <tr>\n",
       "      <th>16</th>\n",
       "      <td>1979</td>\n",
       "      <td>35841901</td>\n",
       "      <td>1</td>\n",
       "    </tr>\n",
       "  </tbody>\n",
       "</table>\n",
       "</div>"
      ],
      "text/plain": [
       "    release_year  total_gross  movie_count\n",
       "0           1937    184925485            1\n",
       "2           1946     65000000            1\n",
       "3           1950     85000000            1\n",
       "4           1954     28200000            1\n",
       "5           1955     93600000            1\n",
       "6           1959      9464608            1\n",
       "8           1962      9230769            1\n",
       "9           1963     22182353            1\n",
       "10          1967    141843000            1\n",
       "11          1968     21540050            1\n",
       "13          1971     17871174            1\n",
       "14          1975     31916500            1\n",
       "16          1979     35841901            1"
      ]
     },
     "metadata": {},
     "output_type": "display_data"
    },
    {
     "name": "stdout",
     "output_type": "stream",
     "text": [
      "Average Number of movies released in an year is 11.0\n"
     ]
    }
   ],
   "source": [
    "import final_script as s\n",
    "\n",
    "# Create a Dataframe Grouped by Year, count number of movies, sum the revenue released by year\n",
    "\n",
    "# group by year and find the total gross and movie count\n",
    "release_year_group = movie_df.groupby('release_year').agg({'total_gross':sum, 'movie_title':'count'}).rename(columns={'movie_title':'movie_count'}).reset_index()\n",
    "\n",
    "# Sortby top 10 highest grossing years\n",
    "top_10_years = s.custom_sort(release_year_group, 'total_gross', 10)\n",
    "\n",
    "# Print Outputs i.e Top 10 Grossing year Analysis, Highest Grossing Year is Analysis, Performance of Year with MOST number of released movies, Average Movie count inn an year\n",
    "top_N = str(top_10_years.shape[0])\n",
    "print (\"Top \"+top_N+\" grossing year is Analysis: \")\n",
    "display(top_10_years)\n",
    "\n",
    "print(\"Highest Grossing Year is Analysis: \")\n",
    "display(release_year_group.loc[release_year_group['total_gross'] == top_10_years['total_gross'].max()])\n",
    "\n",
    "print(\"Performance of Year with MOST number of released movies : \")\n",
    "display(release_year_group.loc[release_year_group['movie_count'] == release_year_group['movie_count'].max()])\n",
    "\n",
    "print(\"Performance of Year with LEAST number of released Mmovies : \")\n",
    "display(release_year_group.loc[release_year_group['movie_count'] == release_year_group['movie_count'].min()])\n",
    "\n",
    "average_movie_count = str(release_year_group['movie_count'].mean().round(0))\n",
    "print (\"Average Number of movies released in an year is \" + average_movie_count)\n",
    "\n"
   ]
  },
  {
   "cell_type": "markdown",
   "metadata": {},
   "source": [
    "Now let's plot a chart which demonstrates the relationship between movies released and the revenue generated by the top 10 grossing years individually. In our analysis we are not accounting for the inflated adjusted gross revenue."
   ]
  },
  {
   "cell_type": "code",
   "execution_count": 16,
   "metadata": {},
   "outputs": [
    {
     "data": {
      "text/html": [
       "\n",
       "<div id=\"altair-viz-0bd62b5e1cf0469cb07d485bbfdbfbd0\"></div>\n",
       "<script type=\"text/javascript\">\n",
       "  (function(spec, embedOpt){\n",
       "    let outputDiv = document.currentScript.previousElementSibling;\n",
       "    if (outputDiv.id !== \"altair-viz-0bd62b5e1cf0469cb07d485bbfdbfbd0\") {\n",
       "      outputDiv = document.getElementById(\"altair-viz-0bd62b5e1cf0469cb07d485bbfdbfbd0\");\n",
       "    }\n",
       "    const paths = {\n",
       "      \"vega\": \"https://cdn.jsdelivr.net/npm//vega@5?noext\",\n",
       "      \"vega-lib\": \"https://cdn.jsdelivr.net/npm//vega-lib?noext\",\n",
       "      \"vega-lite\": \"https://cdn.jsdelivr.net/npm//vega-lite@4.8.1?noext\",\n",
       "      \"vega-embed\": \"https://cdn.jsdelivr.net/npm//vega-embed@6?noext\",\n",
       "    };\n",
       "\n",
       "    function loadScript(lib) {\n",
       "      return new Promise(function(resolve, reject) {\n",
       "        var s = document.createElement('script');\n",
       "        s.src = paths[lib];\n",
       "        s.async = true;\n",
       "        s.onload = () => resolve(paths[lib]);\n",
       "        s.onerror = () => reject(`Error loading script: ${paths[lib]}`);\n",
       "        document.getElementsByTagName(\"head\")[0].appendChild(s);\n",
       "      });\n",
       "    }\n",
       "\n",
       "    function showError(err) {\n",
       "      outputDiv.innerHTML = `<div class=\"error\" style=\"color:red;\">${err}</div>`;\n",
       "      throw err;\n",
       "    }\n",
       "\n",
       "    function displayChart(vegaEmbed) {\n",
       "      vegaEmbed(outputDiv, spec, embedOpt)\n",
       "        .catch(err => showError(`Javascript Error: ${err.message}<br>This usually means there's a typo in your chart specification. See the javascript console for the full traceback.`));\n",
       "    }\n",
       "\n",
       "    if(typeof define === \"function\" && define.amd) {\n",
       "      requirejs.config({paths});\n",
       "      require([\"vega-embed\"], displayChart, err => showError(`Error loading script: ${err.message}`));\n",
       "    } else if (typeof vegaEmbed === \"function\") {\n",
       "      displayChart(vegaEmbed);\n",
       "    } else {\n",
       "      loadScript(\"vega\")\n",
       "        .then(() => loadScript(\"vega-lite\"))\n",
       "        .then(() => loadScript(\"vega-embed\"))\n",
       "        .catch(showError)\n",
       "        .then(() => displayChart(vegaEmbed));\n",
       "    }\n",
       "  })({\"config\": {\"view\": {\"continuousWidth\": 400, \"continuousHeight\": 300}}, \"data\": {\"name\": \"data-d8f73d66e1e228c20d6150daf7a3bcbc\"}, \"mark\": \"bar\", \"encoding\": {\"x\": {\"type\": \"ordinal\", \"field\": \"release_year\", \"sort\": \"-y\", \"title\": \"Release Year\"}, \"y\": {\"type\": \"quantitative\", \"field\": \"total_gross\", \"title\": \"Total Gross Revenue\"}}, \"height\": 300, \"title\": \"Top 10 Grossing Years of Disney\", \"width\": 500, \"$schema\": \"https://vega.github.io/schema/vega-lite/v4.8.1.json\", \"datasets\": {\"data-d8f73d66e1e228c20d6150daf7a3bcbc\": [{\"release_year\": 2016, \"total_gross\": 2873393105, \"movie_count\": 14}, {\"release_year\": 2015, \"total_gross\": 2495662696, \"movie_count\": 11}, {\"release_year\": 2013, \"total_gross\": 1821352070, \"movie_count\": 11}, {\"release_year\": 2003, \"total_gross\": 1564114393, \"movie_count\": 19}, {\"release_year\": 2010, \"total_gross\": 1518975880, \"movie_count\": 14}, {\"release_year\": 2014, \"total_gross\": 1514179473, \"movie_count\": 12}, {\"release_year\": 2012, \"total_gross\": 1452972057, \"movie_count\": 10}, {\"release_year\": 2007, \"total_gross\": 1436787754, \"movie_count\": 14}, {\"release_year\": 2006, \"total_gross\": 1427356974, \"movie_count\": 19}, {\"release_year\": 1998, \"total_gross\": 1229279167, \"movie_count\": 22}]}}, {\"mode\": \"vega-lite\"});\n",
       "</script>"
      ],
      "text/plain": [
       "alt.Chart(...)"
      ]
     },
     "metadata": {},
     "output_type": "display_data"
    },
    {
     "data": {
      "text/html": [
       "\n",
       "<div id=\"altair-viz-e25183bf89a6414ea0b00a7bae355601\"></div>\n",
       "<script type=\"text/javascript\">\n",
       "  (function(spec, embedOpt){\n",
       "    let outputDiv = document.currentScript.previousElementSibling;\n",
       "    if (outputDiv.id !== \"altair-viz-e25183bf89a6414ea0b00a7bae355601\") {\n",
       "      outputDiv = document.getElementById(\"altair-viz-e25183bf89a6414ea0b00a7bae355601\");\n",
       "    }\n",
       "    const paths = {\n",
       "      \"vega\": \"https://cdn.jsdelivr.net/npm//vega@5?noext\",\n",
       "      \"vega-lib\": \"https://cdn.jsdelivr.net/npm//vega-lib?noext\",\n",
       "      \"vega-lite\": \"https://cdn.jsdelivr.net/npm//vega-lite@4.8.1?noext\",\n",
       "      \"vega-embed\": \"https://cdn.jsdelivr.net/npm//vega-embed@6?noext\",\n",
       "    };\n",
       "\n",
       "    function loadScript(lib) {\n",
       "      return new Promise(function(resolve, reject) {\n",
       "        var s = document.createElement('script');\n",
       "        s.src = paths[lib];\n",
       "        s.async = true;\n",
       "        s.onload = () => resolve(paths[lib]);\n",
       "        s.onerror = () => reject(`Error loading script: ${paths[lib]}`);\n",
       "        document.getElementsByTagName(\"head\")[0].appendChild(s);\n",
       "      });\n",
       "    }\n",
       "\n",
       "    function showError(err) {\n",
       "      outputDiv.innerHTML = `<div class=\"error\" style=\"color:red;\">${err}</div>`;\n",
       "      throw err;\n",
       "    }\n",
       "\n",
       "    function displayChart(vegaEmbed) {\n",
       "      vegaEmbed(outputDiv, spec, embedOpt)\n",
       "        .catch(err => showError(`Javascript Error: ${err.message}<br>This usually means there's a typo in your chart specification. See the javascript console for the full traceback.`));\n",
       "    }\n",
       "\n",
       "    if(typeof define === \"function\" && define.amd) {\n",
       "      requirejs.config({paths});\n",
       "      require([\"vega-embed\"], displayChart, err => showError(`Error loading script: ${err.message}`));\n",
       "    } else if (typeof vegaEmbed === \"function\") {\n",
       "      displayChart(vegaEmbed);\n",
       "    } else {\n",
       "      loadScript(\"vega\")\n",
       "        .then(() => loadScript(\"vega-lite\"))\n",
       "        .then(() => loadScript(\"vega-embed\"))\n",
       "        .catch(showError)\n",
       "        .then(() => displayChart(vegaEmbed));\n",
       "    }\n",
       "  })({\"config\": {\"view\": {\"continuousWidth\": 400, \"continuousHeight\": 300}}, \"data\": {\"name\": \"data-d8f73d66e1e228c20d6150daf7a3bcbc\"}, \"mark\": \"line\", \"encoding\": {\"x\": {\"type\": \"quantitative\", \"field\": \"movie_count\"}, \"y\": {\"type\": \"quantitative\", \"field\": \"total_gross\"}}, \"title\": \"Number of Movies Released V/s Total Gross Revenew for the top 10 Grossing Years\", \"$schema\": \"https://vega.github.io/schema/vega-lite/v4.8.1.json\", \"datasets\": {\"data-d8f73d66e1e228c20d6150daf7a3bcbc\": [{\"release_year\": 2016, \"total_gross\": 2873393105, \"movie_count\": 14}, {\"release_year\": 2015, \"total_gross\": 2495662696, \"movie_count\": 11}, {\"release_year\": 2013, \"total_gross\": 1821352070, \"movie_count\": 11}, {\"release_year\": 2003, \"total_gross\": 1564114393, \"movie_count\": 19}, {\"release_year\": 2010, \"total_gross\": 1518975880, \"movie_count\": 14}, {\"release_year\": 2014, \"total_gross\": 1514179473, \"movie_count\": 12}, {\"release_year\": 2012, \"total_gross\": 1452972057, \"movie_count\": 10}, {\"release_year\": 2007, \"total_gross\": 1436787754, \"movie_count\": 14}, {\"release_year\": 2006, \"total_gross\": 1427356974, \"movie_count\": 19}, {\"release_year\": 1998, \"total_gross\": 1229279167, \"movie_count\": 22}]}}, {\"mode\": \"vega-lite\"});\n",
       "</script>"
      ],
      "text/plain": [
       "alt.Chart(...)"
      ]
     },
     "metadata": {},
     "output_type": "display_data"
    }
   ],
   "source": [
    "# Enter your Step2 code here\n",
    "\n",
    "# Use altair to generate a bar plot for top 10 grossing years\n",
    "top_10_years_plot = (alt.Chart(top_10_years, width=500, height=300)\n",
    "                     .mark_bar()\n",
    "                     .encode(\n",
    "                         x=alt.X(\"release_year:O\", title=\"Release Year\",sort=\"-y\"),\n",
    "                         y=alt.Y(\"total_gross:Q\", title=\"Total Gross Revenue\"),\n",
    "                     )\n",
    "                     .properties(title=\"Top 10 Grossing Years of Disney\"))\n",
    "\n",
    "display(top_10_years_plot)\n",
    "\n",
    "# Use altair to generate a line plot to show relationship between movies released and total revenue for the top 10 grossing years\n",
    "\n",
    "line_plot = (alt.Chart(top_10_years)\n",
    "             .mark_line()\n",
    "             .encode(\n",
    "                x='movie_count',\n",
    "                y='total_gross'\n",
    "            )\n",
    "            .properties(title=\"Number of Movies Released V/s Total Gross Revenue for the top 10 Grossing Years\"))\n",
    "\n",
    "display(line_plot)\n",
    "\n"
   ]
  },
  {
   "cell_type": "markdown",
   "metadata": {},
   "source": [
    "From the above analysis we could identify the top 10 highest grossing years and can conclude that year **2016** was the highest grossing year with the revenue of **USD 2,873,393,105** and **14** movie releases. Whereas, gross revenue of the year **1995** which had the highest number of movie releases i.e **32 movies** was **USD 1,131,964,294**. We also identified that there were **13 years** with only **1** release and **1937** was the highest grossing year i.e **USD 184,925,485**. From the analysis of the relationship between count of movie release and gross revenue earned we realised that they are not directly proportional to each other and number or movie releases doesn't gurantee increased revenue."
   ]
  },
  {
   "cell_type": "markdown",
   "metadata": {},
   "source": [
    "As a second visualization, lets take a look at the count of movies and the gross revenue earned by each **director** who worked for Disney from the available dataset . To do this, only movies without **Null** values in the **director** column will be considered."
   ]
  },
  {
   "cell_type": "code",
   "execution_count": 17,
   "metadata": {},
   "outputs": [
    {
     "name": "stdout",
     "output_type": "stream",
     "text": [
      "Number of directors who worked with Disney during this period : 27\n",
      "Details of the Highest revenue generating Director : \n"
     ]
    },
    {
     "data": {
      "text/html": [
       "<div>\n",
       "<style scoped>\n",
       "    .dataframe tbody tr th:only-of-type {\n",
       "        vertical-align: middle;\n",
       "    }\n",
       "\n",
       "    .dataframe tbody tr th {\n",
       "        vertical-align: top;\n",
       "    }\n",
       "\n",
       "    .dataframe thead th {\n",
       "        text-align: right;\n",
       "    }\n",
       "</style>\n",
       "<table border=\"1\" class=\"dataframe\">\n",
       "  <thead>\n",
       "    <tr style=\"text-align: right;\">\n",
       "      <th></th>\n",
       "      <th>director</th>\n",
       "      <th>total_gross</th>\n",
       "      <th>movie_count</th>\n",
       "    </tr>\n",
       "  </thead>\n",
       "  <tbody>\n",
       "    <tr>\n",
       "      <th>25</th>\n",
       "      <td>Wolfgang Reitherman</td>\n",
       "      <td>966009582</td>\n",
       "      <td>9</td>\n",
       "    </tr>\n",
       "  </tbody>\n",
       "</table>\n",
       "</div>"
      ],
      "text/plain": [
       "               director  total_gross  movie_count\n",
       "25  Wolfgang Reitherman    966009582            9"
      ]
     },
     "metadata": {},
     "output_type": "display_data"
    }
   ],
   "source": [
    "# group by year and find the total gross and movie count\n",
    "director_group = movie_df.groupby('director').agg({'total_gross':sum, 'movie_title':'count'}).rename(columns={'A':'count','movie_title':'movie_count'}).reset_index()\n",
    "\n",
    "# Find the count of Directors Disney worked with\n",
    "director_count = str(director_group['director'].count())\n",
    "print(\"Number of directors who worked with Disney during this period : \" + director_count)\n",
    "\n",
    "# Find the performance of Director finding highest revenue\n",
    "print(\"Details of the Highest revenue generating Director : \")\n",
    "display(director_group.loc[director_group['movie_count'] == director_group['movie_count'].max()])\n",
    "\n",
    "\n"
   ]
  },
  {
   "cell_type": "markdown",
   "metadata": {},
   "source": [
    "Now, lets plot a graph which demonstrates the gross revenue earned by each directors working for Disney"
   ]
  },
  {
   "cell_type": "code",
   "execution_count": 21,
   "metadata": {},
   "outputs": [
    {
     "data": {
      "text/html": [
       "\n",
       "<div id=\"altair-viz-a57280a240f1424583561c7553baefe2\"></div>\n",
       "<script type=\"text/javascript\">\n",
       "  (function(spec, embedOpt){\n",
       "    let outputDiv = document.currentScript.previousElementSibling;\n",
       "    if (outputDiv.id !== \"altair-viz-a57280a240f1424583561c7553baefe2\") {\n",
       "      outputDiv = document.getElementById(\"altair-viz-a57280a240f1424583561c7553baefe2\");\n",
       "    }\n",
       "    const paths = {\n",
       "      \"vega\": \"https://cdn.jsdelivr.net/npm//vega@5?noext\",\n",
       "      \"vega-lib\": \"https://cdn.jsdelivr.net/npm//vega-lib?noext\",\n",
       "      \"vega-lite\": \"https://cdn.jsdelivr.net/npm//vega-lite@4.8.1?noext\",\n",
       "      \"vega-embed\": \"https://cdn.jsdelivr.net/npm//vega-embed@6?noext\",\n",
       "    };\n",
       "\n",
       "    function loadScript(lib) {\n",
       "      return new Promise(function(resolve, reject) {\n",
       "        var s = document.createElement('script');\n",
       "        s.src = paths[lib];\n",
       "        s.async = true;\n",
       "        s.onload = () => resolve(paths[lib]);\n",
       "        s.onerror = () => reject(`Error loading script: ${paths[lib]}`);\n",
       "        document.getElementsByTagName(\"head\")[0].appendChild(s);\n",
       "      });\n",
       "    }\n",
       "\n",
       "    function showError(err) {\n",
       "      outputDiv.innerHTML = `<div class=\"error\" style=\"color:red;\">${err}</div>`;\n",
       "      throw err;\n",
       "    }\n",
       "\n",
       "    function displayChart(vegaEmbed) {\n",
       "      vegaEmbed(outputDiv, spec, embedOpt)\n",
       "        .catch(err => showError(`Javascript Error: ${err.message}<br>This usually means there's a typo in your chart specification. See the javascript console for the full traceback.`));\n",
       "    }\n",
       "\n",
       "    if(typeof define === \"function\" && define.amd) {\n",
       "      requirejs.config({paths});\n",
       "      require([\"vega-embed\"], displayChart, err => showError(`Error loading script: ${err.message}`));\n",
       "    } else if (typeof vegaEmbed === \"function\") {\n",
       "      displayChart(vegaEmbed);\n",
       "    } else {\n",
       "      loadScript(\"vega\")\n",
       "        .then(() => loadScript(\"vega-lite\"))\n",
       "        .then(() => loadScript(\"vega-embed\"))\n",
       "        .catch(showError)\n",
       "        .then(() => displayChart(vegaEmbed));\n",
       "    }\n",
       "  })({\"config\": {\"view\": {\"continuousWidth\": 400, \"continuousHeight\": 300}}, \"data\": {\"name\": \"data-059b4503dc9448d17c97958a6b9a1d3a\"}, \"mark\": \"bar\", \"encoding\": {\"x\": {\"type\": \"ordinal\", \"field\": \"director\", \"sort\": \"-y\", \"title\": \"Director Name\"}, \"y\": {\"type\": \"quantitative\", \"field\": \"total_gross\", \"title\": \"Total Gross Revenue\"}}, \"height\": 300, \"title\": \"Gross Revenue earned by Directors working for Disney\", \"width\": 500, \"$schema\": \"https://vega.github.io/schema/vega-lite/v4.8.1.json\", \"datasets\": {\"data-059b4503dc9448d17c97958a6b9a1d3a\": [{\"director\": \"Art Stevens\", \"total_gross\": 43899231, \"movie_count\": 1}, {\"director\": \"Barry Cook\", \"total_gross\": 120620254, \"movie_count\": 1}, {\"director\": \"Ben Sharpsteen\", \"total_gross\": 84300000, \"movie_count\": 1}, {\"director\": \"Byron Howard\", \"total_gross\": 341268248, \"movie_count\": 1}, {\"director\": \"Chris Buck\", \"total_gross\": 571829828, \"movie_count\": 2}, {\"director\": \"Chris Sanders\", \"total_gross\": 145771527, \"movie_count\": 1}, {\"director\": \"Chris Williams\", \"total_gross\": 114053759, \"movie_count\": 1}, {\"director\": \"Clyde Geronimi\", \"total_gross\": 343655718, \"movie_count\": 2}, {\"director\": \"David Hand\", \"total_gross\": 184925485, \"movie_count\": 1}, {\"director\": \"Don Hall\", \"total_gross\": 222527828, \"movie_count\": 1}, {\"director\": \"Gary Trousdale\", \"total_gross\": 403143238, \"movie_count\": 3}, {\"director\": \"George Scribner\", \"total_gross\": 49576671, \"movie_count\": 1}, {\"director\": \"Hamilton Luske\", \"total_gross\": 93600000, \"movie_count\": 1}, {\"director\": \"Mark Dindal\", \"total_gross\": 224683238, \"movie_count\": 2}, {\"director\": \"Mike Gabriel\", \"total_gross\": 169511234, \"movie_count\": 2}, {\"director\": \"Nathan Greno\", \"total_gross\": 200821936, \"movie_count\": 1}, {\"director\": \"Ralph Zondag\", \"total_gross\": 137748063, \"movie_count\": 1}, {\"director\": \"Rich Moore\", \"total_gross\": 189412677, \"movie_count\": 1}, {\"director\": \"Robert Walker\", \"total_gross\": 85336277, \"movie_count\": 1}, {\"director\": \"Roger Allers\", \"total_gross\": 422780140, \"movie_count\": 1}, {\"director\": \"Ron Clements\", \"total_gross\": 840214815, \"movie_count\": 7}, {\"director\": \"Stephen J. Anderson\", \"total_gross\": 124515017, \"movie_count\": 2}, {\"director\": \"Ted Berman\", \"total_gross\": 21288692, \"movie_count\": 1}, {\"director\": \"Wilfred Jackson\", \"total_gross\": 286151353, \"movie_count\": 2}, {\"director\": \"Will Finn\", \"total_gross\": 50026353, \"movie_count\": 1}, {\"director\": \"Wolfgang Reitherman\", \"total_gross\": 966009582, \"movie_count\": 9}, {\"director\": \"full credits\", \"total_gross\": 83320000, \"movie_count\": 1}]}}, {\"mode\": \"vega-lite\"});\n",
       "</script>"
      ],
      "text/plain": [
       "alt.Chart(...)"
      ]
     },
     "metadata": {},
     "output_type": "display_data"
    }
   ],
   "source": [
    "# Create a Histogram Plot which plots Revenue Geneated by Directors V/s Number of Movies\n",
    "director_plot = (alt.Chart(director_group, width=500, height=300).mark_bar().encode(\n",
    "        x=alt.X(\"director:O\", title=\"Director Name\",sort=\"-y\"),\n",
    "        y=alt.Y(\"total_gross:Q\", title=\"Total Gross Revenue\"),\n",
    "    ).properties(title=\"Gross Revenue earned by Directors working for Disney\"))\n",
    "\n",
    "display(director_plot)\n"
   ]
  },
  {
   "cell_type": "markdown",
   "metadata": {},
   "source": [
    "From the above analysis we identified that there were **27** directors who worked for Disney in the given dataset. **Wolfgang Reitherman** was the highest grossing director with the revenue of **USD 966,009,582** with total of **9** movie releases. With the help of the chart we are able to identify the performance of the directors sorted decendingly based on the gross revenue earned from their directed movies"
   ]
  },
  {
   "cell_type": "markdown",
   "metadata": {},
   "source": [
    "Apply Black Formatting to the Scripting file containing Custom Sort function used in our analysis"
   ]
  },
  {
   "cell_type": "code",
   "execution_count": 22,
   "metadata": {},
   "outputs": [
    {
     "name": "stdout",
     "output_type": "stream",
     "text": [
      "\u001b[1mAll done! ✨ 🍰 ✨\u001b[0m\n",
      "1 file left unchanged.\u001b[0m\n"
     ]
    }
   ],
   "source": [
    "!black final_script.py"
   ]
  },
  {
   "cell_type": "markdown",
   "metadata": {},
   "source": [
    "Appling Black formatting to the Test script used to test the python file"
   ]
  },
  {
   "cell_type": "code",
   "execution_count": 31,
   "metadata": {},
   "outputs": [
    {
     "name": "stdout",
     "output_type": "stream",
     "text": [
      "\u001b[1mAll done! ✨ 🍰 ✨\u001b[0m\n",
      "1 file left unchanged.\u001b[0m\n"
     ]
    }
   ],
   "source": [
    "!black test_final_script.py"
   ]
  },
  {
   "cell_type": "markdown",
   "metadata": {},
   "source": [
    "# Discussions\n",
    "In this work, I analyzed the disney movies dataset and tried to compute the performance of Disney Production house w.r.t. the years range and directors who worked for disney. Before answering this question, I did some exploratory data analysis to see how Number of Movies Released in an year impacts the total gross revenue, for the top 10 grossing years of Disney. To our surprise we identifies, there were a few years where the average gross decreased drastically even though the number of movies released were comparatively higher. We were also able to determine which movie earned the most revenue.\n",
    "\n",
    "It was interesting to learn that director **Wolfgang Reithrman** earned the highest gross revenue for Disney . My guess would have been **Chris Buck** given the popularity of the director. Surprisingly, **Chris Buck** earned only around USD $400,000,000$ from his directed movies which places him to the 3rd position out of all the directors who worked for Disney.\n",
    "\n",
    "Another question that could be looked at given this dataset is the the top 10 most earned movies over the years. This is interesting because Disney's highest earning year was 2016. It was great to see progressinve they have been since 1998 which was deemed to be the least profitable year."
   ]
  },
  {
   "cell_type": "markdown",
   "metadata": {},
   "source": [
    "# References\n",
    "\n",
    "**Example :** \n",
    "\n",
    "Not all the work in this notebook is original. Some parts were borrowed from online resources. I take no credit for parts that are not mine. They were soley used for illustration purposes. Lets give to **Ceasar** what belongs to **Ceasar**.\n",
    "\n",
    "## Resources used\n",
    "\n",
    "\n",
    "* Data Tables\n",
    "    * This Disney database used in this work was provided by UBC Extended learning team for exploratory purpose"
   ]
  },
  {
   "cell_type": "markdown",
   "metadata": {},
   "source": [
    "![](img/coder.gif)\n",
    "\n",
    "Image obtained from [here](https://tenor.com/search/programing-gifs)"
   ]
  }
 ],
 "metadata": {
  "kernelspec": {
   "display_name": "Python 3",
   "language": "python",
   "name": "python3"
  },
  "language_info": {
   "codemirror_mode": {
    "name": "ipython",
    "version": 3
   },
   "file_extension": ".py",
   "mimetype": "text/x-python",
   "name": "python",
   "nbconvert_exporter": "python",
   "pygments_lexer": "ipython3",
   "version": "3.8.5"
  }
 },
 "nbformat": 4,
 "nbformat_minor": 4
}
